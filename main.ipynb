{
 "cells": [
  {
   "cell_type": "markdown",
   "metadata": {},
   "source": [
    "# Lab | Inferential statistics\n",
    "\n",
    "## Instructions\n",
    "\n",
    "1. It is assumed that the mean systolic blood pressure is `μ = 120 mm Hg`. In the Honolulu Heart Study, a sample of `n = 100` people had an average systolic blood pressure of `130.1 mm Hg` with a standard deviation of `21.21 mm Hg`. Is the group significantly different (with respect to systolic blood pressure!) from the regular population?\n",
    "\n",
    "   - Set up the hypothesis test.\n",
    "   - Write down all the steps followed for setting up the test.\n",
    "   - Calculate the test statistic by hand and also code it in Python. It should be 4.76190. We will take a look at how to make decisions based on this calculated value."
   ]
  },
  {
   "cell_type": "code",
   "execution_count": 1,
   "metadata": {},
   "outputs": [],
   "source": [
    "# Libraries\n",
    "import pandas as pd # manipulate dataframes\n",
    "import numpy as np # numerical python\n",
    "import math # numerical python\n",
    "import matplotlib.pyplot as plt # viz\n",
    "\n",
    "# New libraries\n",
    "import scipy.stats as stats \n",
    "import statsmodels.api as sm\n",
    "import statsmodels.formula.api as smf"
   ]
  },
  {
   "cell_type": "markdown",
   "metadata": {},
   "source": [
    "### Null and Alternative Hypothesis"
   ]
  },
  {
   "cell_type": "code",
   "execution_count": 3,
   "metadata": {},
   "outputs": [
    {
     "name": "stdout",
     "output_type": "stream",
     "text": [
      "Null Hypothesis (H₀): The mean systolic blood pressure is 120 mm Hg.\n",
      "Alternate Hypothesis (H₁): The mean systolic blood pressure of the Honolulu Heart Study is not 120 mm Hg.\n"
     ]
    }
   ],
   "source": [
    "# Hypotheses\n",
    "null_hypothesis = \"The mean systolic blood pressure is 120 mm Hg.\"  # H₀\n",
    "alt_hypothesis = \"The mean systolic blood pressure of the Honolulu Heart Study is not 120 mm Hg.\"  # H₁\n",
    "\n",
    "print(f\"Null Hypothesis (H₀): {null_hypothesis}\")\n",
    "print(f\"Alternate Hypothesis (H₁): {alt_hypothesis}\")"
   ]
  },
  {
   "cell_type": "markdown",
   "metadata": {},
   "source": [
    "### Level of Significance"
   ]
  },
  {
   "cell_type": "code",
   "execution_count": 4,
   "metadata": {},
   "outputs": [
    {
     "name": "stdout",
     "output_type": "stream",
     "text": [
      "Level of Significance (α): 0.05\n"
     ]
    }
   ],
   "source": [
    "# Significance level\n",
    "alpha = 0.05\n",
    "print(f\"Level of Significance (α): {alpha}\")"
   ]
  },
  {
   "cell_type": "markdown",
   "metadata": {},
   "source": [
    "### Calculate Test Statistic\n",
    "The formula for the z-statistic is:\n",
    "$$ z = \\frac{\\bar{x} - \\mu}{\\sigma / \\sqrt{n}} $$\n",
    "where:\n",
    "- $\\bar{x} $ is the sample mean\n",
    "- $ \\mu $ is the population mean\n",
    "- $ \\sigma $ is the population standard deviation\n",
    "- $ n $ is the sample size\n",
    "- $ \\sqrt{n} $ is the square root of the sample size\n",
    "\n",
    "In this example, we have:\n",
    "- Sample mean $\\bar{x}$ = 130.1\n",
    "- Population mean $\\mu$ = 120\n",
    "- Population standard deviation $\\sigma$ = 21.21\n",
    "- Sample size $n$ = 100\n",
    "\n",
    "So, the z-statistic is calculated as:\n",
    "$$ z = \\frac{130.1 - 120}{ 21.21 / \\sqrt{100}} $$"
   ]
  },
  {
   "cell_type": "code",
   "execution_count": 5,
   "metadata": {},
   "outputs": [],
   "source": [
    "sample_mean = 130.1\n",
    "pop_mean = 120\n",
    "pop_std = 21.21\n",
    "n = 100"
   ]
  },
  {
   "cell_type": "code",
   "execution_count": 6,
   "metadata": {},
   "outputs": [
    {
     "name": "stdout",
     "output_type": "stream",
     "text": [
      "Test Statistic (z): 4.76\n"
     ]
    }
   ],
   "source": [
    "# Calculate the test statistic (z-score)\n",
    "z_stat = (sample_mean - pop_mean) / (pop_std / (n**0.5))\n",
    "print(f\"Test Statistic (z): {z_stat:.2f}\")"
   ]
  },
  {
   "cell_type": "markdown",
   "metadata": {},
   "source": [
    "### Calculte the P-value"
   ]
  },
  {
   "cell_type": "code",
   "execution_count": 9,
   "metadata": {},
   "outputs": [
    {
     "name": "stdout",
     "output_type": "stream",
     "text": [
      "P-Value: 1.0000\n",
      "Fail to Reject the Null Hypothesis: Not a significant result.\n"
     ]
    }
   ],
   "source": [
    "p_value = stats.norm.cdf(z_stat)  # lower-tailed test\n",
    "print(f\"P-Value: {p_value:.4f}\")\n",
    "\n",
    "if p_value < alpha:\n",
    "    print(\"Reject the Null Hypothesis: Significant result.\")\n",
    "else:\n",
    "    print(\"Fail to Reject the Null Hypothesis: Not a significant result.\")\n"
   ]
  },
  {
   "cell_type": "markdown",
   "metadata": {},
   "source": [
    "### Critical Value"
   ]
  },
  {
   "cell_type": "code",
   "execution_count": 10,
   "metadata": {},
   "outputs": [
    {
     "name": "stdout",
     "output_type": "stream",
     "text": [
      "Critical Value: -1.64\n"
     ]
    }
   ],
   "source": [
    "# Critical Value for a one-tailed test\n",
    "critical_value = stats.norm.ppf(alpha)\n",
    "print(f\"Critical Value: {critical_value:.2f}\")"
   ]
  }
 ],
 "metadata": {
  "kernelspec": {
   "display_name": "base",
   "language": "python",
   "name": "python3"
  },
  "language_info": {
   "codemirror_mode": {
    "name": "ipython",
    "version": 3
   },
   "file_extension": ".py",
   "mimetype": "text/x-python",
   "name": "python",
   "nbconvert_exporter": "python",
   "pygments_lexer": "ipython3",
   "version": "3.12.4"
  }
 },
 "nbformat": 4,
 "nbformat_minor": 2
}
